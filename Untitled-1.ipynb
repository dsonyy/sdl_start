{
 "cells": [
  {
   "cell_type": "code",
   "execution_count": 97,
   "metadata": {},
   "outputs": [],
   "source": []
  },
  {
   "cell_type": "code",
   "execution_count": 327,
   "metadata": {},
   "outputs": [
    {
     "name": "stdout",
     "output_type": "stream",
     "text": [
      "i = 0\n",
      "\ta_0 = 1\n",
      "\tv_0 = 0\n",
      "\tx_0 = 0\n",
      "\ta_1 = 1\n",
      "\tv_1 = 1\n",
      "\tx_1 = 0.5\n",
      "i = 1\n",
      "\ta_0 = 1\n",
      "\tv_0 = 1\n",
      "\tx_0 = 0.5\n",
      "\ta_1 = 1\n",
      "\tv_1 = 2\n",
      "\tx_1 = 2.0\n",
      "i = 2\n",
      "\ta_0 = 1\n",
      "\tv_0 = 2\n",
      "\tx_0 = 2.0\n",
      "\ta_1 = 1\n",
      "\tv_1 = 3\n",
      "\tx_1 = 4.5\n",
      "i = 3\n",
      "\ta_0 = 1\n",
      "\tv_0 = 3\n",
      "\tx_0 = 4.5\n",
      "\ta_1 = 1\n",
      "\tv_1 = 4\n",
      "\tx_1 = 8.0\n",
      "i = 4\n",
      "\ta_0 = 1\n",
      "\tv_0 = 4\n",
      "\tx_0 = 8.0\n",
      "\ta_1 = 1\n",
      "\tv_1 = 5\n",
      "\tx_1 = 12.5\n",
      "i = 5\n",
      "\ta_0 = 1\n",
      "\tv_0 = 5\n",
      "\tx_0 = 12.5\n",
      "\ta_1 = 1\n",
      "\tv_1 = 6\n",
      "\tx_1 = 18.0\n",
      "i = 6\n",
      "\ta_0 = 1\n",
      "\tv_0 = 6\n",
      "\tx_0 = 18.0\n",
      "\ta_1 = 1\n",
      "\tv_1 = 7\n",
      "\tx_1 = 24.5\n",
      "i = 7\n",
      "\ta_0 = 1\n",
      "\tv_0 = 7\n",
      "\tx_0 = 24.5\n",
      "\ta_1 = 1\n",
      "\tv_1 = 8\n",
      "\tx_1 = 32.0\n",
      "i = 8\n",
      "\ta_0 = 1\n",
      "\tv_0 = 8\n",
      "\tx_0 = 32.0\n",
      "\ta_1 = 1\n",
      "\tv_1 = 9\n",
      "\tx_1 = 40.5\n"
     ]
    }
   ],
   "source": [
    "def simulate(t, x_0, v_0, a_0, a_1):\n",
    "    v_1 = v_0 + a_1 * t\n",
    "    x_1 = x_0 + v_0 * t + 0.5 * a_1 * t**2\n",
    "\n",
    "    return x_1, v_1\n",
    "\n",
    "a_0 = 1\n",
    "v_0 = 0\n",
    "x_0 = 0\n",
    "# print(\"x_0 = {}, v_0 = {}\".format(x_0, v_0))\n",
    "\n",
    "data =  []\n",
    "adata = []\n",
    "vdata = []\n",
    "\n",
    "a_1 = a_0\n",
    "for i in range(0, 9):\n",
    "    print(\"i = {}\".format(i))\n",
    "    print(\"\\ta_0 = {}\".format(a_0))\n",
    "    print(\"\\tv_0 = {}\".format(v_0))\n",
    "    print(\"\\tx_0 = {}\".format(x_0))\n",
    "    \n",
    "    # if i == 3:\n",
    "    #     a_1 = 10\n",
    "    # if i == 6:\n",
    "    #     a_1 = -60\n",
    "\n",
    "    x_1, v_1 = simulate(1, x_0, v_0, a_0, a_1)\n",
    "    data.append([i, x_1])\n",
    "    adata.append([i, a_1])\n",
    "    vdata.append([i, v_1])\n",
    "\n",
    "    print(\"\\ta_1 = {}\".format(a_1))\n",
    "    print(\"\\tv_1 = {}\".format(v_1))\n",
    "    print(\"\\tx_1 = {}\".format(x_1))\n",
    "    \n",
    "    x_0, v_0 = x_1, v_1\n",
    "    a_0, a_1 = a_1, a_1"
   ]
  },
  {
   "cell_type": "code",
   "execution_count": 317,
   "metadata": {},
   "outputs": [],
   "source": [
    "import pandas as pd\n",
    "import matplotlib.pyplot as plt\n",
    "import random"
   ]
  },
  {
   "cell_type": "code",
   "execution_count": 318,
   "metadata": {},
   "outputs": [
    {
     "data": {
      "text/html": [
       "<div>\n",
       "<style scoped>\n",
       "    .dataframe tbody tr th:only-of-type {\n",
       "        vertical-align: middle;\n",
       "    }\n",
       "\n",
       "    .dataframe tbody tr th {\n",
       "        vertical-align: top;\n",
       "    }\n",
       "\n",
       "    .dataframe thead th {\n",
       "        text-align: right;\n",
       "    }\n",
       "</style>\n",
       "<table border=\"1\" class=\"dataframe\">\n",
       "  <thead>\n",
       "    <tr style=\"text-align: right;\">\n",
       "      <th></th>\n",
       "      <th>t</th>\n",
       "      <th>a</th>\n",
       "    </tr>\n",
       "  </thead>\n",
       "  <tbody>\n",
       "    <tr>\n",
       "      <th>0</th>\n",
       "      <td>0</td>\n",
       "      <td>1</td>\n",
       "    </tr>\n",
       "    <tr>\n",
       "      <th>1</th>\n",
       "      <td>1</td>\n",
       "      <td>1</td>\n",
       "    </tr>\n",
       "    <tr>\n",
       "      <th>2</th>\n",
       "      <td>2</td>\n",
       "      <td>1</td>\n",
       "    </tr>\n",
       "    <tr>\n",
       "      <th>3</th>\n",
       "      <td>3</td>\n",
       "      <td>10</td>\n",
       "    </tr>\n",
       "    <tr>\n",
       "      <th>4</th>\n",
       "      <td>4</td>\n",
       "      <td>10</td>\n",
       "    </tr>\n",
       "    <tr>\n",
       "      <th>5</th>\n",
       "      <td>5</td>\n",
       "      <td>10</td>\n",
       "    </tr>\n",
       "    <tr>\n",
       "      <th>6</th>\n",
       "      <td>6</td>\n",
       "      <td>-60</td>\n",
       "    </tr>\n",
       "    <tr>\n",
       "      <th>7</th>\n",
       "      <td>7</td>\n",
       "      <td>-60</td>\n",
       "    </tr>\n",
       "    <tr>\n",
       "      <th>8</th>\n",
       "      <td>8</td>\n",
       "      <td>-60</td>\n",
       "    </tr>\n",
       "  </tbody>\n",
       "</table>\n",
       "</div>"
      ],
      "text/plain": [
       "   t   a\n",
       "0  0   1\n",
       "1  1   1\n",
       "2  2   1\n",
       "3  3  10\n",
       "4  4  10\n",
       "5  5  10\n",
       "6  6 -60\n",
       "7  7 -60\n",
       "8  8 -60"
      ]
     },
     "execution_count": 318,
     "metadata": {},
     "output_type": "execute_result"
    }
   ],
   "source": [
    "pd.DataFrame(adata, columns=[\"t\", \"a\"])"
   ]
  },
  {
   "cell_type": "code",
   "execution_count": 319,
   "metadata": {},
   "outputs": [
    {
     "data": {
      "image/png": "[encoded data removed]",
      "text/plain": [
       "<Figure size 640x480 with 1 Axes>"
      ]
     },
     "metadata": {},
     "output_type": "display_data"
    }
   ],
   "source": [
    "df = pd.DataFrame(adata, columns=[\"t\", \"a\"])\n",
    "plt.scatter(df[\"t\"], df[\"a\"], label=\"a\")\n",
    "plt.grid()"
   ]
  },
  {
   "cell_type": "code",
   "execution_count": 320,
   "metadata": {},
   "outputs": [
    {
     "data": {
      "image/png": "[encoded data removed]",
      "text/plain": [
       "<Figure size 640x480 with 1 Axes>"
      ]
     },
     "metadata": {},
     "output_type": "display_data"
    }
   ],
   "source": [
    "df = pd.DataFrame(data, columns=[\"t\", \"x\"])\n",
    "plt.scatter(df[\"t\"], df[\"x\"], label=\"x\")\n",
    "plt.grid()"
   ]
  },
  {
   "cell_type": "code",
   "execution_count": 321,
   "metadata": {},
   "outputs": [
    {
     "data": {
      "text/html": [
       "<div>\n",
       "<style scoped>\n",
       "    .dataframe tbody tr th:only-of-type {\n",
       "        vertical-align: middle;\n",
       "    }\n",
       "\n",
       "    .dataframe tbody tr th {\n",
       "        vertical-align: top;\n",
       "    }\n",
       "\n",
       "    .dataframe thead th {\n",
       "        text-align: right;\n",
       "    }\n",
       "</style>\n",
       "<table border=\"1\" class=\"dataframe\">\n",
       "  <thead>\n",
       "    <tr style=\"text-align: right;\">\n",
       "      <th></th>\n",
       "      <th>t</th>\n",
       "      <th>x</th>\n",
       "    </tr>\n",
       "  </thead>\n",
       "  <tbody>\n",
       "    <tr>\n",
       "      <th>0</th>\n",
       "      <td>0</td>\n",
       "      <td>0.5</td>\n",
       "    </tr>\n",
       "    <tr>\n",
       "      <th>1</th>\n",
       "      <td>1</td>\n",
       "      <td>2.0</td>\n",
       "    </tr>\n",
       "    <tr>\n",
       "      <th>2</th>\n",
       "      <td>2</td>\n",
       "      <td>4.5</td>\n",
       "    </tr>\n",
       "    <tr>\n",
       "      <th>3</th>\n",
       "      <td>3</td>\n",
       "      <td>12.5</td>\n",
       "    </tr>\n",
       "    <tr>\n",
       "      <th>4</th>\n",
       "      <td>4</td>\n",
       "      <td>30.5</td>\n",
       "    </tr>\n",
       "    <tr>\n",
       "      <th>5</th>\n",
       "      <td>5</td>\n",
       "      <td>58.5</td>\n",
       "    </tr>\n",
       "    <tr>\n",
       "      <th>6</th>\n",
       "      <td>6</td>\n",
       "      <td>61.5</td>\n",
       "    </tr>\n",
       "    <tr>\n",
       "      <th>7</th>\n",
       "      <td>7</td>\n",
       "      <td>4.5</td>\n",
       "    </tr>\n",
       "    <tr>\n",
       "      <th>8</th>\n",
       "      <td>8</td>\n",
       "      <td>-112.5</td>\n",
       "    </tr>\n",
       "  </tbody>\n",
       "</table>\n",
       "</div>"
      ],
      "text/plain": [
       "   t      x\n",
       "0  0    0.5\n",
       "1  1    2.0\n",
       "2  2    4.5\n",
       "3  3   12.5\n",
       "4  4   30.5\n",
       "5  5   58.5\n",
       "6  6   61.5\n",
       "7  7    4.5\n",
       "8  8 -112.5"
      ]
     },
     "execution_count": 321,
     "metadata": {},
     "output_type": "execute_result"
    }
   ],
   "source": [
    "df"
   ]
  },
  {
   "cell_type": "code",
   "execution_count": 322,
   "metadata": {},
   "outputs": [
    {
     "data": {
      "image/png": "[encoded data removed]",
      "text/plain": [
       "<Figure size 640x480 with 1 Axes>"
      ]
     },
     "metadata": {},
     "output_type": "display_data"
    }
   ],
   "source": [
    "df = pd.DataFrame(data, columns=[\"t\", \"x\"])\n",
    "plt.scatter(df[\"t\"], df[\"x\"], label=\"x\")\n",
    "plt.grid()"
   ]
  },
  {
   "cell_type": "code",
   "execution_count": 323,
   "metadata": {},
   "outputs": [
    {
     "data": {
      "text/html": [
       "<div>\n",
       "<style scoped>\n",
       "    .dataframe tbody tr th:only-of-type {\n",
       "        vertical-align: middle;\n",
       "    }\n",
       "\n",
       "    .dataframe tbody tr th {\n",
       "        vertical-align: top;\n",
       "    }\n",
       "\n",
       "    .dataframe thead th {\n",
       "        text-align: right;\n",
       "    }\n",
       "</style>\n",
       "<table border=\"1\" class=\"dataframe\">\n",
       "  <thead>\n",
       "    <tr style=\"text-align: right;\">\n",
       "      <th></th>\n",
       "      <th>t</th>\n",
       "      <th>x</th>\n",
       "    </tr>\n",
       "  </thead>\n",
       "  <tbody>\n",
       "    <tr>\n",
       "      <th>0</th>\n",
       "      <td>0</td>\n",
       "      <td>0.5</td>\n",
       "    </tr>\n",
       "    <tr>\n",
       "      <th>1</th>\n",
       "      <td>1</td>\n",
       "      <td>2.0</td>\n",
       "    </tr>\n",
       "    <tr>\n",
       "      <th>2</th>\n",
       "      <td>2</td>\n",
       "      <td>4.5</td>\n",
       "    </tr>\n",
       "    <tr>\n",
       "      <th>3</th>\n",
       "      <td>3</td>\n",
       "      <td>12.5</td>\n",
       "    </tr>\n",
       "    <tr>\n",
       "      <th>4</th>\n",
       "      <td>4</td>\n",
       "      <td>30.5</td>\n",
       "    </tr>\n",
       "    <tr>\n",
       "      <th>5</th>\n",
       "      <td>5</td>\n",
       "      <td>58.5</td>\n",
       "    </tr>\n",
       "    <tr>\n",
       "      <th>6</th>\n",
       "      <td>6</td>\n",
       "      <td>61.5</td>\n",
       "    </tr>\n",
       "    <tr>\n",
       "      <th>7</th>\n",
       "      <td>7</td>\n",
       "      <td>4.5</td>\n",
       "    </tr>\n",
       "    <tr>\n",
       "      <th>8</th>\n",
       "      <td>8</td>\n",
       "      <td>-112.5</td>\n",
       "    </tr>\n",
       "  </tbody>\n",
       "</table>\n",
       "</div>"
      ],
      "text/plain": [
       "   t      x\n",
       "0  0    0.5\n",
       "1  1    2.0\n",
       "2  2    4.5\n",
       "3  3   12.5\n",
       "4  4   30.5\n",
       "5  5   58.5\n",
       "6  6   61.5\n",
       "7  7    4.5\n",
       "8  8 -112.5"
      ]
     },
     "execution_count": 323,
     "metadata": {},
     "output_type": "execute_result"
    }
   ],
   "source": [
    "df"
   ]
  },
  {
   "cell_type": "code",
   "execution_count": 324,
   "metadata": {},
   "outputs": [
    {
     "data": {
      "image/png": "[encoded data removed]",
      "text/plain": [
       "<Figure size 640x480 with 1 Axes>"
      ]
     },
     "metadata": {},
     "output_type": "display_data"
    }
   ],
   "source": [
    "df = pd.DataFrame(vdata, columns=[\"t\", \"v\"])\n",
    "plt.scatter(df[\"t\"], df[\"v\"], label=\"v\")\n",
    "plt.grid()"
   ]
  },
  {
   "cell_type": "code",
   "execution_count": null,
   "metadata": {},
   "outputs": [],
   "source": []
  }
 ],
 "metadata": {
  "kernelspec": {
   "display_name": "Python 3",
   "language": "python",
   "name": "python3"
  },
  "language_info": {
   "codemirror_mode": {
    "name": "ipython",
    "version": 3
   },
   "file_extension": ".py",
   "mimetype": "text/x-python",
   "name": "python",
   "nbconvert_exporter": "python",
   "pygments_lexer": "ipython3",
   "version": "3.10.12"
  }
 },
 "nbformat": 4,
 "nbformat_minor": 2
}
